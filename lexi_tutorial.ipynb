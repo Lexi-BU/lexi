{
 "cells": [
  {
   "cell_type": "markdown",
   "metadata": {},
   "source": [
    "This Notebook will walk you through the process of using the LEXI code with the final goal of\n",
    "producing and saving x-ray data from LEXI spacecraft."
   ]
  },
  {
   "cell_type": "markdown",
   "metadata": {},
   "source": [
    "`LEXI`, in this context, is a package developed in Python to ingest the data from the\n",
    "[LEXI](https://sites.bu.edu/lexi/) spacecraft and produce x-ray data images in RA-DEC coordinate system."
   ]
  },
  {
   "cell_type": "markdown",
   "metadata": {},
   "source": [
    "`LEXI` package has the following functions:\n",
    "- `get_spc_prams`: to get the spacecraft's ephemeris data. It takes the start and end time of the\n",
    "  observation and returns the interpolated ephemeris data in a pandas dataframe. The output dataframe has the\n",
    "  following columns:\n",
    "    - `epoch_utc`: Time in UTC\n",
    "    - `ra`: Right Ascension in degrees\n",
    "    - `dec`: Declination in degrees\n",
    "    - `roll`: Roll angle in degrees\n",
    "    The interpolation is done using the `t_step` parameter. `t_step` is the time step in seconds at\n",
    "    which the user desires to have look-direction computed. The default value is set to 5 seconds.  ````"
   ]
  }
 ],
 "metadata": {
  "language_info": {
   "name": "python"
  }
 },
 "nbformat": 4,
 "nbformat_minor": 2
}
